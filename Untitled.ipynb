{
 "cells": [
  {
   "cell_type": "code",
   "execution_count": 6,
   "metadata": {},
   "outputs": [
    {
     "name": "stdout",
     "output_type": "stream",
     "text": [
      "The autoreload extension is already loaded. To reload it, use:\n",
      "  %reload_ext autoreload\n"
     ]
    }
   ],
   "source": [
    "%load_ext autoreload\n",
    "%autoreload 2\n"
   ]
  },
  {
   "cell_type": "code",
   "execution_count": 32,
   "metadata": {},
   "outputs": [
    {
     "name": "stdout",
     "output_type": "stream",
     "text": [
      "b'3139'\n"
     ]
    }
   ],
   "source": [
    "import binascii\n",
    "output = binascii.b2a_hex(b\"19\")\n",
    "binascii.hexlify(b\"paul\")\n",
    "#print(binascii.unhexlify('13'))\n",
    "#bytearray.fromhex(\"13\").decode()\n",
    "print(output)"
   ]
  },
  {
   "cell_type": "code",
   "execution_count": 151,
   "metadata": {},
   "outputs": [
    {
     "name": "stdout",
     "output_type": "stream",
     "text": [
      "b'\\x13BitTorrent protocol\\x00\\x00\\x00\\x00\\x00\\x00\\x00\\x00Z\\x80b\\xc0v\\xfa\\x85\\xe8\\x05dQ\\xc0\\xd9\\xaa\\x044\\x9a\\xe2y\\tG03A4DYX9Y35V1GIJQ11'\n",
      "b'\\x13BitTorrent protocol\\x00\\x00\\x00\\x00\\x00\\x00\\x00\\x00Z\\x80b\\xc0v\\xfa\\x85\\xe8\\x05dQ\\xc0\\xd9\\xaa\\x044\\x9a\\xe2y\\tG03A4DYX9Y35V1GIJQ11'\n"
     ]
    }
   ],
   "source": [
    "from struct import pack, unpack\n",
    "HANDSHAKE_PSTR_V1 = b\"BitTorrent protocol\"\n",
    "HANDSHAKE_PSTR_LEN = len(HANDSHAKE_PSTR_V1)\n",
    "PSTR = b\"BitTorrent protocol\"\n",
    "\n",
    "def to_bytes(self):\n",
    "    reserved = bytearray(8)\n",
    "    handshake = pack(\">B{}s8s20s20s\".format(HANDSHAKE_PSTR_LEN),\n",
    "                     HANDSHAKE_PSTR_LEN,\n",
    "                     HANDSHAKE_PSTR_V1,\n",
    "                     reserved,\n",
    "                     self.info_hash,\n",
    "                     self.peer_id)\n",
    "\n",
    "    return handshake\n",
    "\n",
    "def serialize(self):\n",
    "    buf = pack(\">b 19s 8s 20s 20s\",\n",
    "         len(PSTR),\n",
    "         PSTR,\n",
    "         self.ext_flags,\n",
    "         self.info_hash,\n",
    "         self.peer_id)\n",
    "    return buf\n",
    "    \n",
    "print(to_bytes(test))\n",
    "print(serialize(test))\n"
   ]
  },
  {
   "cell_type": "code",
   "execution_count": 124,
   "metadata": {},
   "outputs": [
    {
     "data": {
      "text/plain": [
       "b'Z\\x80b\\xc0v\\xfa\\x85\\xe8\\x05dQ\\xc0\\xd9\\xaa\\x044\\x9a\\xe2y\\t'"
      ]
     },
     "execution_count": 124,
     "metadata": {},
     "output_type": "execute_result"
    }
   ],
   "source": [
    "hexample = digest.hex()\n",
    "bytes.fromhex(hexample)\n",
    "str(\"adytdydytd\").encode(\"utf-8\")\n",
    "pack(\"20s\",bytes.fromhex(hexample))\n",
    "(64).to_bytes(1,\"big\")"
   ]
  },
  {
   "cell_type": "code",
   "execution_count": 31,
   "metadata": {},
   "outputs": [],
   "source": [
    "from message import Message, MessageCodes\n",
    "bitfield = b'\\x00\\x00\\x00\\xa9\\x05\\xff\\xff\\xff\\xff\\xff\\xff\\xff\\xff\\xff\\xff\\xff\\xff\\xff\\xff\\xff\\xff\\xff\\xff\\xff\\xff\\xff\\xff\\xff\\xff\\xff\\xff\\xff\\xff\\xff\\xff\\xff\\xff\\xff\\xff\\xff\\xff\\xff\\xff\\xff\\xff\\xff\\xff\\xff\\xff\\xff\\xff\\xff\\xff\\xff\\xff\\xff\\xff\\xff\\xff\\xff\\xff\\xff\\xff\\xff\\xff\\xff\\xff\\xff\\xff\\xff\\xff\\xff\\xff\\xff\\xff\\xff\\xff\\xff\\xff\\xff\\xff\\xff\\xff\\xff\\xff\\xff\\xff\\xff\\xff\\xff\\xff\\xff\\xff\\xff\\xff\\xff\\xff\\xff\\xff\\xff\\xff\\xff\\xff\\xff\\xff\\xff\\xff\\xff\\xff\\xff\\xff\\xff\\xff\\xff\\xff\\xff\\xff\\xff\\xff\\xff\\xff\\xff\\xff\\xff\\xff\\xff\\xff\\xff\\xff\\xff\\xff\\xff\\xff\\xff\\xff\\xff\\xff\\xff\\xff\\xff\\xff\\xff\\xff\\xff\\xff\\xff\\xff\\xff\\xff\\xff\\xff\\xff\\xff\\xff\\xff\\xff\\xff\\xff\\xff\\xff\\xff\\xff\\xff\\xff\\xff\\xff\\xff\\xff\\xff\\xff\\xff\\xff\\xf0'\n",
    "tst = Message.deserialize(bitfield)"
   ]
  },
  {
   "cell_type": "code",
   "execution_count": 42,
   "metadata": {},
   "outputs": [
    {
     "name": "stdout",
     "output_type": "stream",
     "text": [
      "expected bitfield, got UNCHOKE\n"
     ]
    }
   ],
   "source": [
    "if 1 != MessageCodes.BITFIELD:\n",
    "    print(\"expected bitfield, got {}\".format(MessageCodes(1).name))"
   ]
  },
  {
   "cell_type": "code",
   "execution_count": 30,
   "metadata": {},
   "outputs": [
    {
     "data": {
      "text/plain": [
       "1376"
      ]
     },
     "execution_count": 30,
     "metadata": {},
     "output_type": "execute_result"
    }
   ],
   "source": [
    "172*8"
   ]
  },
  {
   "cell_type": "code",
   "execution_count": 22,
   "metadata": {},
   "outputs": [],
   "source": [
    "from struct import unpack\n",
    "dt= unpack(\">173s\",bitfield)"
   ]
  },
  {
   "cell_type": "code",
   "execution_count": 43,
   "metadata": {},
   "outputs": [],
   "source": [
    "wk = []"
   ]
  },
  {
   "cell_type": "code",
   "execution_count": 48,
   "metadata": {},
   "outputs": [],
   "source": [
    "wk.append(3)"
   ]
  },
  {
   "cell_type": "code",
   "execution_count": 52,
   "metadata": {},
   "outputs": [],
   "source": [
    "from queue import *\n",
    "q = Queue(maxsize=10)"
   ]
  },
  {
   "cell_type": "code",
   "execution_count": null,
   "metadata": {},
   "outputs": [],
   "source": [
    "q.put(5)"
   ]
  },
  {
   "cell_type": "code",
   "execution_count": null,
   "metadata": {},
   "outputs": [],
   "source": [
    "q.get()"
   ]
  },
  {
   "cell_type": "code",
   "execution_count": null,
   "metadata": {},
   "outputs": [],
   "source": []
  }
 ],
 "metadata": {
  "kernelspec": {
   "display_name": "Python 3",
   "language": "python",
   "name": "python3"
  },
  "language_info": {
   "codemirror_mode": {
    "name": "ipython",
    "version": 3
   },
   "file_extension": ".py",
   "mimetype": "text/x-python",
   "name": "python",
   "nbconvert_exporter": "python",
   "pygments_lexer": "ipython3",
   "version": "3.8.1"
  }
 },
 "nbformat": 4,
 "nbformat_minor": 4
}
